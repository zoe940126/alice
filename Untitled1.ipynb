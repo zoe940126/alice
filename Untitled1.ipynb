{
  "nbformat": 4,
  "nbformat_minor": 0,
  "metadata": {
    "colab": {
      "provenance": []
    },
    "kernelspec": {
      "name": "python3",
      "display_name": "Python 3"
    },
    "language_info": {
      "name": "python"
    }
  },
  "cells": [
    {
      "cell_type": "code",
      "source": [
        "name='陳昱光'\n",
        "id='B1205016'\n",
        "s=[name,id]\n",
        "print(s)\n",
        "print(type(name),(id))\n"
      ],
      "metadata": {
        "colab": {
          "base_uri": "https://localhost:8080/"
        },
        "id": "sNR5hOoPCT3u",
        "outputId": "5983a91c-d3dd-4f69-c47c-e597be1d882d"
      },
      "execution_count": 8,
      "outputs": [
        {
          "output_type": "stream",
          "name": "stdout",
          "text": [
            "['陳昱光', 'B1205016']\n",
            "<class 'str'> B1205016\n"
          ]
        }
      ]
    }
  ]
}
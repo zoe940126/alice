{
  "nbformat": 4,
  "nbformat_minor": 0,
  "metadata": {
    "colab": {
      "provenance": []
    },
    "kernelspec": {
      "name": "python3",
      "display_name": "Python 3"
    },
    "language_info": {
      "name": "python"
    }
  },
  "cells": [
    {
      "cell_type": "code",
      "execution_count": null,
      "metadata": {
        "colab": {
          "base_uri": "https://localhost:8080/"
        },
        "id": "BU8XGQZsBD1-",
        "outputId": "1f70bba4-0321-4d02-e272-e12b011aa8ed"
      },
      "outputs": [
        {
          "output_type": "stream",
          "name": "stdout",
          "text": [
            "請輸入一個數字：2\n",
            "1x1=1\n",
            "1x2=2\n",
            "2x1=2\n",
            "2x2=4\n"
          ]
        }
      ],
      "source": [
        "number = int(input(\"請輸入一個數字：\"))\n",
        "for i in range(1,number+1):\n",
        "  for j in range(1,number+1):\n",
        "    product=i*j\n",
        "    print(f\"{i}x{j}={product}\")\n"
      ]
    },
    {
      "cell_type": "code",
      "source": [
        "import random\n",
        "target_number=random.randint(1,100)\n",
        "print(\"歡迎參加猜數字遊戲\")\n",
        "ans=0\n",
        "while ans==0:\n",
        "  guess=int(input(\"what is your guess\"))\n",
        "  if guess>target_number:\n",
        "    print(\"too high\")\n",
        "  elif guess<target_number:\n",
        "    print(\"too low\")\n",
        "  else:\n",
        "    print(f\"guess right!!!!!you are genius\")\n",
        "    ans=1\n",
        "  print(\"遊戲結束\")\n",
        "\n"
      ],
      "metadata": {
        "colab": {
          "base_uri": "https://localhost:8080/"
        },
        "id": "UJXd8acHFS7y",
        "outputId": "9c11f717-a8e7-4688-f0ba-8b6b7736441d"
      },
      "execution_count": null,
      "outputs": [
        {
          "output_type": "stream",
          "name": "stdout",
          "text": [
            "歡迎參加猜數字遊戲\n",
            "what is your guess70\n",
            "too high\n",
            "遊戲結束\n",
            "what is your guess60\n",
            "too high\n",
            "遊戲結束\n",
            "what is your guess30\n",
            "too low\n",
            "遊戲結束\n",
            "what is your guess40\n",
            "too high\n",
            "遊戲結束\n",
            "what is your guess32\n",
            "guess right!!!!!you are genius\n",
            "遊戲結束\n"
          ]
        }
      ]
    }
  ]
}
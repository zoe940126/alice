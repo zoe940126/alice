{
  "nbformat": 4,
  "nbformat_minor": 0,
  "metadata": {
    "colab": {
      "provenance": []
    },
    "kernelspec": {
      "name": "python3",
      "display_name": "Python 3"
    },
    "language_info": {
      "name": "python"
    }
  },
  "cells": [
    {
      "cell_type": "code",
      "execution_count": null,
      "metadata": {
        "id": "TPZ66RwoD6gb"
      },
      "outputs": [],
      "source": [
        "prescription = {\n",
        "    '名稱': '八珍丸《丸》',\n",
        "    '出典': '證治準繩',\n",
        "    '處方': {\n",
        "        '當歸': 3,  # 公克\n",
        "        '川芎': 3,\n",
        "        '白芍': 3,\n",
        "        '熟地黃': 3,\n",
        "        '人參': 3,\n",
        "        '白朮': 3,\n",
        "        '茯苓':3,\n",
        "        '炙甘草':1.5,\n",
        "        '生薑':3,\n",
        "        '大棗':2,\n",
        "    },\n",
        "    '效能': '雙補氣血',\n",
        "    '適應症': ['氣血兩虛', '神疲肢倦', '食慾不振', '面黃肌瘦']\n",
        "}\n",
        "\n",
        "# 使用 while 迴圈提供查詢服務\n",
        "while True:\n",
        "    query = input(\"\\n您想查詢什麼？(藥方名稱/出典/處方/效能/適應症/退出查詢)：\")\n",
        "\n",
        "    if query == \"藥方名稱\":\n",
        "        print(f\"{prescription['名稱']}\")\n",
        "    elif query == \"出典\":\n",
        "        print(f\"{prescription['名稱']}的出典為:{prescription['出典']}\")\n",
        "    elif query == \"適應症\":\n",
        "        print(f\"{prescription['名稱']}的適應症有:\")\n",
        "        for symptom in prescription['適應症']:\n",
        "            print(symptom)\n",
        "    elif query == \"處方\":\n",
        "        total_weight = sum(prescription['處方'].values())\n",
        "        print(f\"{prescription['名稱']}的處方為:\")\n",
        "        for medicine, weight in prescription['處方'].items():\n",
        "            print(f\"{medicine}：{weight}公克\")\n",
        "        print(f\"總克數為：{total_weight}公克\")\n",
        "    elif query == \"效能\":\n",
        "        print(f\"{prescription['名稱']}的效能是:{prescription['效能']}\")\n",
        "    elif query == \"退出查詢\":\n",
        "        print(\"感謝使用，再見！\")\n",
        "        break\n",
        "    else:\n",
        "        print(\"輸入無效，請重新輸入。\")"
      ]
    }
  ]
}